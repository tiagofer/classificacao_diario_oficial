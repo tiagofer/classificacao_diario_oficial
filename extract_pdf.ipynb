{
 "metadata": {
  "language_info": {
   "codemirror_mode": {
    "name": "ipython",
    "version": 3
   },
   "file_extension": ".py",
   "mimetype": "text/x-python",
   "name": "python",
   "nbconvert_exporter": "python",
   "pygments_lexer": "ipython3",
   "version": "3.7.4-final"
  },
  "orig_nbformat": 2,
  "kernelspec": {
   "name": "python3",
   "display_name": "Python 3"
  }
 },
 "nbformat": 4,
 "nbformat_minor": 2,
 "cells": [
  {
   "cell_type": "code",
   "execution_count": 1,
   "metadata": {},
   "outputs": [],
   "source": [
    "import re\n",
    "import urllib\n",
    "import pdftotext\n",
    "from os import walk\n",
    "import PyPDF2 \n",
    "import textract\n",
    "import pandas as pd \n",
    "import fitz # PyMuPDF\n",
    "import io\n",
    "import pytesseract\n",
    "from PIL import Image\n",
    "import cv2\n",
    "import numpy as np \n",
    "import plotly.express as px"
   ]
  },
  {
   "cell_type": "code",
   "execution_count": 2,
   "metadata": {},
   "outputs": [],
   "source": [
    "mypath = \"diarios\"\n",
    "f = []\n",
    "names = []\n",
    "for (dirpath, dirnames, filenames) in walk(mypath):\n",
    "    [f.append(f\"{dirpath}/{file}\") for file in filenames]\n",
    "    names.append(dirnames)\n",
    "#for file in f:\n",
    " #   with open(file,'rb') as f:\n",
    "  #      pdfReader = PyPDF2.PdfFileReader(f)\n",
    "   #     pageObj = pdfReader.getPage(0)     "
   ]
  },
  {
   "cell_type": "code",
   "execution_count": 138,
   "metadata": {},
   "outputs": [],
   "source": [
    "# get grayscale image\n",
    "def get_grayscale(image):\n",
    "    return cv2.cvtColor(image, cv2.COLOR_BGR2GRAY)\n",
    "\n",
    "# noise removal\n",
    "def remove_noise(image):\n",
    "    return cv2.medianBlur(image,5)\n",
    " \n",
    "#thresholding\n",
    "def thresholding(image):\n",
    "    return cv2.adaptiveThreshold(img,255,cv2.ADAPTIVE_THRESH_GAUSSIAN_C,\\\n",
    "            cv2.THRESH_BINARY,11,2)\n",
    "\n",
    "#dilation\n",
    "def dilate(image):\n",
    "    kernel = np.ones((5,5),np.uint8)\n",
    "    return cv2.dilate(image, kernel, iterations = 1)\n",
    "    \n",
    "#erosion\n",
    "def erode(image):\n",
    "    kernel = np.ones((5,5),np.uint8)\n",
    "    return cv2.erode(image, kernel, iterations = 1)\n",
    "\n",
    "#opening - erosion followed by dilation\n",
    "def opening(image):\n",
    "    kernel = np.ones((5,5),np.uint8)\n",
    "    return cv2.morphologyEx(image, cv2.MORPH_OPEN, kernel)\n",
    "\n",
    "#canny edge detection\n",
    "def canny(image):\n",
    "    return cv2.Canny(image, 100, 200)\n",
    "\n"
   ]
  },
  {
   "cell_type": "code",
   "execution_count": 144,
   "metadata": {
    "tags": [
     "outputPrepend"
    ]
   },
   "outputs": [
    {
     "output_type": "stream",
     "name": "stdout",
     "text": [
      "5 in Gazette 2020-10-05 Found a total of 2 images in page 75\n",
      "[+] Page 76 in Gazette 2020-10-05 Found a total of 2 images in page 76\n",
      "[+] Page 77 in Gazette 2020-10-05 Found a total of 2 images in page 77\n",
      "[+] Page 78 in Gazette 2020-10-05 Found a total of 2 images in page 78\n",
      "[+] Page 79 in Gazette 2020-10-05 Found a total of 2 images in page 79\n",
      "[+] Page 80 in Gazette 2020-10-05 Found a total of 2 images in page 80\n",
      "[+] Page 81 in Gazette 2020-10-05 Found a total of 2 images in page 81\n",
      "[+] Page 82 in Gazette 2020-10-05 Found a total of 2 images in page 82\n",
      "[+] Page 83 in Gazette 2020-10-05 Found a total of 2 images in page 83\n",
      "[+] Page 84 in Gazette 2020-10-05 Found a total of 2 images in page 84\n",
      "[+] Page 85 in Gazette 2020-10-05 Found a total of 2 images in page 85\n",
      "[+] Page 86 in Gazette 2020-10-05 Found a total of 2 images in page 86\n",
      "[+] Page 87 in Gazette 2020-10-05 Found a total of 2 images in page 87\n",
      "[+] Page 88 in Gazette 2020-10-05 Found a total of 2 images in page 88\n",
      "[+] Page 89 in Gazette 2020-10-05 Found a total of 2 images in page 89\n",
      "[+] Page 90 in Gazette 2020-10-05 Found a total of 2 images in page 90\n",
      "[+] Page 91 in Gazette 2020-10-05 Found a total of 2 images in page 91\n",
      "[+] Page 92 in Gazette 2020-10-05 Found a total of 2 images in page 92\n",
      "[+] Page 93 in Gazette 2020-10-05 Found a total of 2 images in page 93\n",
      "[+] Page 94 in Gazette 2020-10-05 Found a total of 2 images in page 94\n",
      "[+] Page 95 in Gazette 2020-10-05 Found a total of 2 images in page 95\n",
      "[+] Page 96 in Gazette 2020-10-05 Found a total of 2 images in page 96\n",
      "[+] Page 97 in Gazette 2020-10-05 Found a total of 2 images in page 97\n",
      "[+] Page 98 in Gazette 2020-10-05 Found a total of 2 images in page 98\n",
      "[+] Page 99 in Gazette 2020-10-05 Found a total of 2 images in page 99\n",
      "[+] Page 100 in Gazette 2020-10-05 Found a total of 2 images in page 100\n",
      "[+] Page 101 in Gazette 2020-10-05 Found a total of 2 images in page 101\n",
      "[+] Page 102 in Gazette 2020-10-05 Found a total of 2 images in page 102\n",
      "[+] Page 103 in Gazette 2020-10-05 Found a total of 2 images in page 103\n",
      "[+] Page 104 in Gazette 2020-10-05 Found a total of 2 images in page 104\n",
      "[+] Page 105 in Gazette 2020-10-05 Found a total of 2 images in page 105\n",
      "[+] Page 106 in Gazette 2020-10-05 Found a total of 2 images in page 106\n",
      "[+] Page 107 in Gazette 2020-10-05 Found a total of 5 images in page 107\n",
      "[+] Page 108 in Gazette 2020-10-05 Found a total of 2 images in page 108\n",
      "[+] Page 109 in Gazette 2020-10-05 Found a total of 2 images in page 109\n",
      "[+] Page 110 in Gazette 2020-10-05 Found a total of 2 images in page 110\n",
      "[+] Page 111 in Gazette 2020-10-05 Found a total of 2 images in page 111\n",
      "[+] Page 112 in Gazette 2020-10-05 Found a total of 2 images in page 112\n",
      "[+] Page 113 in Gazette 2020-10-05 Found a total of 2 images in page 113\n",
      "[+] Page 0 in Gazette 2020-10-05 Found a total of 5 images in page 0\n",
      "[+] Page 1 in Gazette 2020-10-05 Found a total of 5 images in page 1\n",
      "[+] Page 2 in Gazette 2020-10-05 Found a total of 8 images in page 2\n",
      "[+] Page 3 in Gazette 2020-10-05 Found a total of 2 images in page 3\n",
      "[+] Page 4 in Gazette 2020-10-05 Found a total of 2 images in page 4\n",
      "[+] Page 5 in Gazette 2020-10-05 Found a total of 2 images in page 5\n",
      "[+] Page 6 in Gazette 2020-10-05 Found a total of 2 images in page 6\n",
      "[+] Page 0 in Gazette 2020-10-02 Found a total of 2 images in page 0\n",
      "[+] Page 1 in Gazette 2020-10-02 Found a total of 2 images in page 1\n",
      "[+] Page 2 in Gazette 2020-10-02 Found a total of 2 images in page 2\n",
      "[+] Page 3 in Gazette 2020-10-02 Found a total of 2 images in page 3\n",
      "[+] Page 4 in Gazette 2020-10-02 Found a total of 2 images in page 4\n",
      "[+] Page 5 in Gazette 2020-10-02 Found a total of 1 images in page 5\n",
      "[+] Page 6 in Gazette 2020-10-02 Found a total of 1 images in page 6\n",
      "[+] Page 7 in Gazette 2020-10-02 Found a total of 1 images in page 7\n",
      "[+] Page 8 in Gazette 2020-10-02 Found a total of 1 images in page 8\n",
      "[+] Page 9 in Gazette 2020-10-02 Found a total of 1 images in page 9\n",
      "[+] Page 10 in Gazette 2020-10-02 Found a total of 1 images in page 10\n",
      "[+] Page 11 in Gazette 2020-10-02 Found a total of 1 images in page 11\n",
      "[+] Page 12 in Gazette 2020-10-02 Found a total of 1 images in page 12\n",
      "[+] Page 13 in Gazette 2020-10-02 Found a total of 1 images in page 13\n",
      "[+] Page 14 in Gazette 2020-10-02 Found a total of 1 images in page 14\n",
      "[+] Page 15 in Gazette 2020-10-02 Found a total of 1 images in page 15\n",
      "[+] Page 16 in Gazette 2020-10-02 Found a total of 1 images in page 16\n",
      "[+] Page 17 in Gazette 2020-10-02 Found a total of 1 images in page 17\n",
      "[+] Page 18 in Gazette 2020-10-02 Found a total of 1 images in page 18\n",
      "[+] Page 19 in Gazette 2020-10-02 Found a total of 1 images in page 19\n",
      "[+] Page 20 in Gazette 2020-10-02 Found a total of 1 images in page 20\n",
      "[+] Page 21 in Gazette 2020-10-02 Found a total of 1 images in page 21\n",
      "[+] Page 22 in Gazette 2020-10-02 Found a total of 1 images in page 22\n",
      "[+] Page 23 in Gazette 2020-10-02 Found a total of 1 images in page 23\n",
      "[+] Page 24 in Gazette 2020-10-02 Found a total of 1 images in page 24\n",
      "[+] Page 25 in Gazette 2020-10-02 Found a total of 1 images in page 25\n",
      "[+] Page 26 in Gazette 2020-10-02 Found a total of 1 images in page 26\n",
      "[+] Page 27 in Gazette 2020-10-02 Found a total of 1 images in page 27\n",
      "[+] Page 28 in Gazette 2020-10-02 Found a total of 1 images in page 28\n",
      "[+] Page 29 in Gazette 2020-10-02 Found a total of 1 images in page 29\n",
      "[+] Page 30 in Gazette 2020-10-02 Found a total of 1 images in page 30\n",
      "[+] Page 31 in Gazette 2020-10-02 Found a total of 1 images in page 31\n",
      "[+] Page 32 in Gazette 2020-10-02 Found a total of 1 images in page 32\n",
      "[+] Page 33 in Gazette 2020-10-02 Found a total of 8 images in page 33\n",
      "[+] Page 34 in Gazette 2020-10-02 Found a total of 6 images in page 34\n",
      "[+] Page 35 in Gazette 2020-10-02 Found a total of 6 images in page 35\n",
      "[+] Page 36 in Gazette 2020-10-02 Found a total of 6 images in page 36\n",
      "[+] Page 37 in Gazette 2020-10-02 Found a total of 7 images in page 37\n",
      "[+] Page 38 in Gazette 2020-10-02 Found a total of 5 images in page 38\n",
      "[+] Page 39 in Gazette 2020-10-02 Found a total of 6 images in page 39\n",
      "[+] Page 40 in Gazette 2020-10-02 Found a total of 6 images in page 40\n",
      "[+] Page 0 in Gazette 2020-10-15 Found a total of 1 images in page 0\n",
      "[+] Page 1 in Gazette 2020-10-15 Found a total of 1 images in page 1\n",
      "[+] Page 2 in Gazette 2020-10-15 Found a total of 1 images in page 2\n",
      "[+] Page 3 in Gazette 2020-10-15 Found a total of 2 images in page 3\n",
      "[+] Page 4 in Gazette 2020-10-15 Found a total of 1 images in page 4\n",
      "[+] Page 5 in Gazette 2020-10-15 Found a total of 2 images in page 5\n",
      "[+] Page 0 in Gazette 2020-10-15 Found a total of 2 images in page 0\n",
      "[+] Page 1 in Gazette 2020-10-15 Found a total of 2 images in page 1\n",
      "[+] Page 2 in Gazette 2020-10-15 Found a total of 2 images in page 2\n",
      "[+] Page 3 in Gazette 2020-10-15 Found a total of 2 images in page 3\n",
      "[+] Page 4 in Gazette 2020-10-15 Found a total of 2 images in page 4\n",
      "[+] Page 5 in Gazette 2020-10-15 Found a total of 2 images in page 5\n",
      "[+] Page 6 in Gazette 2020-10-15 Found a total of 2 images in page 6\n",
      "[+] Page 7 in Gazette 2020-10-15 Found a total of 2 images in page 7\n",
      "[+] Page 8 in Gazette 2020-10-15 Found a total of 2 images in page 8\n",
      "[+] Page 9 in Gazette 2020-10-15 Found a total of 2 images in page 9\n",
      "[+] Page 10 in Gazette 2020-10-15 Found a total of 2 images in page 10\n",
      "[+] Page 11 in Gazette 2020-10-15 Found a total of 2 images in page 11\n",
      "[+] Page 12 in Gazette 2020-10-15 Found a total of 2 images in page 12\n",
      "[+] Page 13 in Gazette 2020-10-15 Found a total of 2 images in page 13\n",
      "[+] Page 14 in Gazette 2020-10-15 Found a total of 2 images in page 14\n",
      "[+] Page 15 in Gazette 2020-10-15 Found a total of 2 images in page 15\n",
      "[+] Page 16 in Gazette 2020-10-15 Found a total of 2 images in page 16\n",
      "[+] Page 17 in Gazette 2020-10-15 Found a total of 2 images in page 17\n",
      "[+] Page 0 in Gazette 2020-10-23 Found a total of 2 images in page 0\n",
      "[+] Page 1 in Gazette 2020-10-23 Found a total of 2 images in page 1\n",
      "[+] Page 2 in Gazette 2020-10-23 Found a total of 2 images in page 2\n",
      "[+] Page 3 in Gazette 2020-10-23 Found a total of 2 images in page 3\n",
      "[+] Page 4 in Gazette 2020-10-23 Found a total of 2 images in page 4\n",
      "[+] Page 5 in Gazette 2020-10-23 Found a total of 2 images in page 5\n",
      "[+] Page 6 in Gazette 2020-10-23 Found a total of 2 images in page 6\n",
      "[+] Page 7 in Gazette 2020-10-23 Found a total of 2 images in page 7\n",
      "[+] Page 8 in Gazette 2020-10-23 Found a total of 2 images in page 8\n",
      "[+] Page 9 in Gazette 2020-10-23 Found a total of 2 images in page 9\n",
      "[+] Page 10 in Gazette 2020-10-23 Found a total of 2 images in page 10\n",
      "[+] Page 11 in Gazette 2020-10-23 Found a total of 2 images in page 11\n",
      "[+] Page 12 in Gazette 2020-10-23 Found a total of 2 images in page 12\n",
      "[+] Page 13 in Gazette 2020-10-23 Found a total of 2 images in page 13\n",
      "[+] Page 14 in Gazette 2020-10-23 Found a total of 2 images in page 14\n",
      "[+] Page 15 in Gazette 2020-10-23 Found a total of 2 images in page 15\n",
      "[+] Page 16 in Gazette 2020-10-23 Found a total of 2 images in page 16\n",
      "[+] Page 17 in Gazette 2020-10-23 Found a total of 2 images in page 17\n",
      "[+] Page 18 in Gazette 2020-10-23 Found a total of 2 images in page 18\n",
      "[+] Page 19 in Gazette 2020-10-23 Found a total of 2 images in page 19\n",
      "[+] Page 20 in Gazette 2020-10-23 Found a total of 2 images in page 20\n",
      "[+] Page 21 in Gazette 2020-10-23 Found a total of 2 images in page 21\n",
      "[+] Page 22 in Gazette 2020-10-23 Found a total of 2 images in page 22\n",
      "[+] Page 23 in Gazette 2020-10-23 Found a total of 2 images in page 23\n",
      "[+] Page 24 in Gazette 2020-10-23 Found a total of 2 images in page 24\n",
      "[+] Page 25 in Gazette 2020-10-23 Found a total of 1 images in page 25\n",
      "[+] Page 26 in Gazette 2020-10-23 Found a total of 2 images in page 26\n",
      "[+] Page 27 in Gazette 2020-10-23 Found a total of 2 images in page 27\n",
      "[+] Page 28 in Gazette 2020-10-23 Found a total of 5 images in page 28\n",
      "[+] Page 29 in Gazette 2020-10-23 Found a total of 2 images in page 29\n",
      "[+] Page 0 in Gazette 2020-10-22 Found a total of 2 images in page 0\n",
      "[+] Page 1 in Gazette 2020-10-22 Found a total of 2 images in page 1\n",
      "[+] Page 2 in Gazette 2020-10-22 Found a total of 2 images in page 2\n",
      "[+] Page 3 in Gazette 2020-10-22 Found a total of 1 images in page 3\n",
      "[+] Page 4 in Gazette 2020-10-22 Found a total of 2 images in page 4\n",
      "[+] Page 5 in Gazette 2020-10-22 Found a total of 3 images in page 5\n",
      "[+] Page 6 in Gazette 2020-10-22 Found a total of 3 images in page 6\n",
      "[+] Page 7 in Gazette 2020-10-22 Found a total of 2 images in page 7\n",
      "[+] Page 8 in Gazette 2020-10-22 Found a total of 2 images in page 8\n",
      "[+] Page 0 in Gazette 2020-10-13 Found a total of 2 images in page 0\n",
      "[+] Page 1 in Gazette 2020-10-13 Found a total of 1 images in page 1\n",
      "[+] Page 2 in Gazette 2020-10-13 Found a total of 2 images in page 2\n",
      "[+] Page 0 in Gazette 2020-10-14 Found a total of 2 images in page 0\n",
      "[+] Page 1 in Gazette 2020-10-14 Found a total of 2 images in page 1\n",
      "[+] Page 2 in Gazette 2020-10-14 Found a total of 2 images in page 2\n",
      "[+] Page 3 in Gazette 2020-10-14 Found a total of 2 images in page 3\n",
      "[+] Page 4 in Gazette 2020-10-14 Found a total of 2 images in page 4\n",
      "[+] Page 5 in Gazette 2020-10-14 Found a total of 2 images in page 5\n",
      "[+] Page 6 in Gazette 2020-10-14 Found a total of 2 images in page 6\n",
      "[+] Page 7 in Gazette 2020-10-14 Found a total of 2 images in page 7\n",
      "[+] Page 8 in Gazette 2020-10-14 Found a total of 2 images in page 8\n",
      "[+] Page 9 in Gazette 2020-10-14 Found a total of 2 images in page 9\n",
      "[+] Page 10 in Gazette 2020-10-14 Found a total of 2 images in page 10\n",
      "[+] Page 11 in Gazette 2020-10-14 Found a total of 2 images in page 11\n",
      "[+] Page 12 in Gazette 2020-10-14 Found a total of 2 images in page 12\n",
      "[+] Page 13 in Gazette 2020-10-14 Found a total of 6 images in page 13\n",
      "[+] Page 14 in Gazette 2020-10-14 Found a total of 5 images in page 14\n",
      "[+] Page 15 in Gazette 2020-10-14 Found a total of 4 images in page 15\n",
      "[+] Page 16 in Gazette 2020-10-14 Found a total of 2 images in page 16\n",
      "[+] Page 17 in Gazette 2020-10-14 Found a total of 2 images in page 17\n",
      "[+] Page 0 in Gazette 2020-11-06 Found a total of 2 images in page 0\n",
      "[+] Page 1 in Gazette 2020-11-06 Found a total of 2 images in page 1\n",
      "[+] Page 2 in Gazette 2020-11-06 Found a total of 2 images in page 2\n",
      "[+] Page 3 in Gazette 2020-11-06 Found a total of 2 images in page 3\n",
      "[+] Page 4 in Gazette 2020-11-06 Found a total of 2 images in page 4\n",
      "[+] Page 5 in Gazette 2020-11-06 Found a total of 2 images in page 5\n",
      "[+] Page 6 in Gazette 2020-11-06 Found a total of 2 images in page 6\n",
      "[+] Page 7 in Gazette 2020-11-06 Found a total of 2 images in page 7\n",
      "[+] Page 8 in Gazette 2020-11-06 Found a total of 2 images in page 8\n",
      "[+] Page 9 in Gazette 2020-11-06 Found a total of 2 images in page 9\n",
      "[+] Page 10 in Gazette 2020-11-06 Found a total of 2 images in page 10\n",
      "[+] Page 11 in Gazette 2020-11-06 Found a total of 3 images in page 11\n",
      "[+] Page 0 in Gazette 2020-11-07 Found a total of 1 images in page 0\n",
      "[+] Page 1 in Gazette 2020-11-07 Found a total of 1 images in page 1\n",
      "[+] Page 0 in Gazette 2020-10-09 Found a total of 2 images in page 0\n",
      "[+] Page 1 in Gazette 2020-10-09 Found a total of 2 images in page 1\n",
      "[+] Page 2 in Gazette 2020-10-09 Found a total of 2 images in page 2\n",
      "[+] Page 3 in Gazette 2020-10-09 Found a total of 2 images in page 3\n",
      "[+] Page 4 in Gazette 2020-10-09 Found a total of 2 images in page 4\n",
      "[+] Page 5 in Gazette 2020-10-09 Found a total of 2 images in page 5\n",
      "[+] Page 0 in Gazette 2020-10-09 Found a total of 2 images in page 0\n",
      "[+] Page 1 in Gazette 2020-10-09 Found a total of 2 images in page 1\n",
      "[+] Page 2 in Gazette 2020-10-09 Found a total of 2 images in page 2\n",
      "[+] Page 3 in Gazette 2020-10-09 Found a total of 2 images in page 3\n",
      "[+] Page 4 in Gazette 2020-10-09 Found a total of 2 images in page 4\n",
      "[+] Page 5 in Gazette 2020-10-09 Found a total of 2 images in page 5\n",
      "[+] Page 6 in Gazette 2020-10-09 Found a total of 2 images in page 6\n",
      "[+] Page 7 in Gazette 2020-10-09 Found a total of 2 images in page 7\n",
      "[+] Page 8 in Gazette 2020-10-09 Found a total of 2 images in page 8\n",
      "[+] Page 9 in Gazette 2020-10-09 Found a total of 2 images in page 9\n",
      "[+] Page 10 in Gazette 2020-10-09 Found a total of 10 images in page 10\n",
      "[+] Page 11 in Gazette 2020-10-09 Found a total of 8 images in page 11\n",
      "[+] Page 12 in Gazette 2020-10-09 Found a total of 8 images in page 12\n",
      "[+] Page 13 in Gazette 2020-10-09 Found a total of 6 images in page 13\n",
      "[+] Page 14 in Gazette 2020-10-09 Found a total of 5 images in page 14\n",
      "[+] Page 15 in Gazette 2020-10-09 Found a total of 4 images in page 15\n",
      "[+] Page 16 in Gazette 2020-10-09 Found a total of 5 images in page 16\n",
      "[+] Page 17 in Gazette 2020-10-09 Found a total of 5 images in page 17\n",
      "[+] Page 18 in Gazette 2020-10-09 Found a total of 5 images in page 18\n",
      "[+] Page 19 in Gazette 2020-10-09 Found a total of 4 images in page 19\n",
      "[+] Page 0 in Gazette 2020-10-07 Found a total of 1 images in page 0\n",
      "[+] Page 0 in Gazette 2020-10-07 Found a total of 2 images in page 0\n",
      "[+] Page 1 in Gazette 2020-10-07 Found a total of 2 images in page 1\n",
      "[+] Page 2 in Gazette 2020-10-07 Found a total of 2 images in page 2\n",
      "[+] Page 3 in Gazette 2020-10-07 Found a total of 2 images in page 3\n",
      "[+] Page 4 in Gazette 2020-10-07 Found a total of 2 images in page 4\n",
      "[+] Page 5 in Gazette 2020-10-07 Found a total of 2 images in page 5\n",
      "[+] Page 6 in Gazette 2020-10-07 Found a total of 2 images in page 6\n",
      "[+] Page 7 in Gazette 2020-10-07 Found a total of 2 images in page 7\n",
      "[+] Page 8 in Gazette 2020-10-07 Found a total of 1 images in page 8\n",
      "[+] Page 0 in Gazette 2020-10-01 Found a total of 1 images in page 0\n",
      "[+] Page 1 in Gazette 2020-10-01 Found a total of 2 images in page 1\n",
      "[+] Page 2 in Gazette 2020-10-01 Found a total of 2 images in page 2\n",
      "[+] Page 3 in Gazette 2020-10-01 Found a total of 2 images in page 3\n",
      "[+] Page 4 in Gazette 2020-10-01 Found a total of 2 images in page 4\n",
      "[+] Page 5 in Gazette 2020-10-01 Found a total of 2 images in page 5\n",
      "[+] Page 0 in Gazette 2020-10-06 Found a total of 2 images in page 0\n",
      "[+] Page 1 in Gazette 2020-10-06 Found a total of 2 images in page 1\n",
      "[+] Page 2 in Gazette 2020-10-06 Found a total of 2 images in page 2\n",
      "[+] Page 3 in Gazette 2020-10-06 Found a total of 2 images in page 3\n",
      "[+] Page 4 in Gazette 2020-10-06 Found a total of 1 images in page 4\n",
      "[+] Page 5 in Gazette 2020-10-06 Found a total of 2 images in page 5\n",
      "[+] Page 6 in Gazette 2020-10-06 Found a total of 2 images in page 6\n",
      "[+] Page 7 in Gazette 2020-10-06 Found a total of 2 images in page 7\n",
      "[+] Page 0 in Gazette 2020-10-08 Found a total of 2 images in page 0\n",
      "[+] Page 1 in Gazette 2020-10-08 Found a total of 2 images in page 1\n",
      "[+] Page 2 in Gazette 2020-10-08 Found a total of 2 images in page 2\n",
      "[+] Page 3 in Gazette 2020-10-08 Found a total of 2 images in page 3\n",
      "[+] Page 4 in Gazette 2020-10-08 Found a total of 2 images in page 4\n",
      "[+] Page 5 in Gazette 2020-10-08 Found a total of 2 images in page 5\n",
      "[+] Page 6 in Gazette 2020-10-08 Found a total of 2 images in page 6\n",
      "[+] Page 7 in Gazette 2020-10-08 Found a total of 2 images in page 7\n",
      "[+] Page 8 in Gazette 2020-10-08 Found a total of 2 images in page 8\n",
      "[+] Page 9 in Gazette 2020-10-08 Found a total of 2 images in page 9\n",
      "[+] Page 10 in Gazette 2020-10-08 Found a total of 2 images in page 10\n",
      "[+] Page 11 in Gazette 2020-10-08 Found a total of 2 images in page 11\n",
      "[+] Page 12 in Gazette 2020-10-08 Found a total of 2 images in page 12\n",
      "[+] Page 13 in Gazette 2020-10-08 Found a total of 2 images in page 13\n",
      "[+] Page 14 in Gazette 2020-10-08 Found a total of 2 images in page 14\n",
      "[+] Page 15 in Gazette 2020-10-08 Found a total of 2 images in page 15\n",
      "[+] Page 16 in Gazette 2020-10-08 Found a total of 2 images in page 16\n",
      "[+] Page 17 in Gazette 2020-10-08 Found a total of 2 images in page 17\n",
      "[+] Page 18 in Gazette 2020-10-08 Found a total of 2 images in page 18\n",
      "[+] Page 19 in Gazette 2020-10-08 Found a total of 2 images in page 19\n",
      "[+] Page 20 in Gazette 2020-10-08 Found a total of 2 images in page 20\n",
      "[+] Page 21 in Gazette 2020-10-08 Found a total of 2 images in page 21\n",
      "[+] Page 22 in Gazette 2020-10-08 Found a total of 2 images in page 22\n",
      "[+] Page 23 in Gazette 2020-10-08 Found a total of 2 images in page 23\n",
      "[+] Page 24 in Gazette 2020-10-08 Found a total of 2 images in page 24\n",
      "[+] Page 25 in Gazette 2020-10-08 Found a total of 2 images in page 25\n",
      "[+] Page 26 in Gazette 2020-10-08 Found a total of 2 images in page 26\n",
      "[+] Page 27 in Gazette 2020-10-08 Found a total of 2 images in page 27\n",
      "[+] Page 28 in Gazette 2020-10-08 Found a total of 2 images in page 28\n",
      "[+] Page 29 in Gazette 2020-10-08 Found a total of 2 images in page 29\n",
      "[+] Page 30 in Gazette 2020-10-08 Found a total of 2 images in page 30\n",
      "[+] Page 31 in Gazette 2020-10-08 Found a total of 2 images in page 31\n",
      "[+] Page 32 in Gazette 2020-10-08 Found a total of 2 images in page 32\n",
      "[+] Page 33 in Gazette 2020-10-08 Found a total of 2 images in page 33\n",
      "[+] Page 34 in Gazette 2020-10-08 Found a total of 2 images in page 34\n",
      "[+] Page 35 in Gazette 2020-10-08 Found a total of 2 images in page 35\n",
      "[+] Page 36 in Gazette 2020-10-08 Found a total of 2 images in page 36\n",
      "[+] Page 37 in Gazette 2020-10-08 Found a total of 2 images in page 37\n",
      "[+] Page 38 in Gazette 2020-10-08 Found a total of 2 images in page 38\n",
      "[+] Page 39 in Gazette 2020-10-08 Found a total of 2 images in page 39\n",
      "[+] Page 40 in Gazette 2020-10-08 Found a total of 2 images in page 40\n",
      "[+] Page 41 in Gazette 2020-10-08 Found a total of 2 images in page 41\n",
      "[+] Page 42 in Gazette 2020-10-08 Found a total of 2 images in page 42\n",
      "[+] Page 43 in Gazette 2020-10-08 Found a total of 2 images in page 43\n",
      "[+] Page 44 in Gazette 2020-10-08 Found a total of 2 images in page 44\n",
      "[+] Page 45 in Gazette 2020-10-08 Found a total of 2 images in page 45\n",
      "[+] Page 46 in Gazette 2020-10-08 Found a total of 2 images in page 46\n",
      "[+] Page 47 in Gazette 2020-10-08 Found a total of 2 images in page 47\n",
      "[+] Page 48 in Gazette 2020-10-08 Found a total of 2 images in page 48\n",
      "[+] Page 49 in Gazette 2020-10-08 Found a total of 2 images in page 49\n"
     ]
    }
   ],
   "source": [
    "custom_config = r'--psm 6'\n",
    "# iterate over PDF pages\n",
    "for file in f:\n",
    "    pdf_file = fitz.open(file)\n",
    "    text = \"\"\n",
    "    for page_index in range(len(pdf_file)):\n",
    "        # get the page itself\n",
    "        page = pdf_file[page_index]\n",
    "        image_list = page.getImageList()\n",
    "        # printing number of images found in this page\n",
    "        if image_list:\n",
    "            print(f\"[+] Page {page_index} in Gazette {file[8:18]} Found a total of {len(image_list)} images in page {page_index}\")\n",
    "        else:\n",
    "            print(\"[!] No images found on page\", page_index)\n",
    "        for image_index, img in enumerate(image_list, start=1):\n",
    "            # get the XREF of the image\n",
    "            xref = img[0]\n",
    "            # extract the image bytes\n",
    "            base_image = pdf_file.extractImage(xref)\n",
    "            image_bytes = base_image[\"image\"]\n",
    "            # get the image extension\n",
    "            image_ext = base_image[\"ext\"]\n",
    "            # load it to PIL\n",
    "            image = Image.open(io.BytesIO(image_bytes))\n",
    "\n",
    "            # save it to local disk\n",
    "            img = cv2.imdecode(np.frombuffer(image_bytes, np.uint8),-1)\n",
    "            #ocv_test = opening(img)\n",
    "            text += pytesseract.image_to_string(img, lang='por',config=custom_config)  # Extraindo o texto da imagem\n",
    "\n",
    "            #image.safve(open(f\"image{page_index+1}_{image_index}.{image_ext}\", \"wb\"))\n",
    "    file = open(f\"outputs/{file[8:18]}.txt\",\"a+\")\n",
    "    file.write(text)\n",
    "    file.close()\n",
    "        #print(text)"
   ]
  },
  {
   "cell_type": "code",
   "execution_count": 3,
   "metadata": {
    "tags": []
   },
   "outputs": [
    {
     "output_type": "stream",
     "name": "stdout",
     "text": [
      "outputs/outputs/2020-11-07.txt\noutputs/outputs/2020-11-06.txt\noutputs/outputs/2020-11-04.txt\noutputs/outputs/2020-11-05.txt\noutputs/outputs/2020-11-03.txt\noutputs/outputs/2020-10-19.txt\noutputs/outputs/2020-10-27.txt\noutputs/outputs/2020-10-26.txt\noutputs/outputs/2020-10-22.txt\noutputs/outputs/2020-10-23.txt\noutputs/outputs/2020-10-09.txt\noutputs/outputs/2020-10-21.txt\noutputs/outputs/2020-10-20.txt\noutputs/outputs/2020-10-08.txt\noutputs/outputs/2020-10-05.txt\noutputs/outputs/2020-10-06.txt\noutputs/outputs/2020-10-07.txt\noutputs/outputs/2020-10-13.txt\noutputs/outputs/2020-10-03.txt\noutputs/outputs/2020-10-02.txt\noutputs/outputs/2020-10-16.txt\noutputs/outputs/2020-10-28.txt\noutputs/outputs/2020-10-14.txt\noutputs/outputs/2020-10-15.txt\noutputs/outputs/2020-10-01.txt\noutputs/outputs/2020-10-29.txt\noutputs/outputs/2020-11-19.txt\noutputs/outputs/2020-11-18.txt\n"
     ]
    }
   ],
   "source": [
    "def create_dataframe(dirpath,filename):\n",
    "    print(f\"{dirpath}{filename}\")\n",
    "    gazette = dict()\n",
    "    with open(filename, 'r') as file:\n",
    "        gazette['date'] = filename[8:-4] #pega só a data no nome do arquivo.\n",
    "        gazette['content'] = re.sub('\\s+', ' ', file.read())\n",
    "    #print(gazette)\n",
    "    return gazette\n",
    "df_gazettes = pd.DataFrame()\n",
    "for (dirpath, dirnames, filenames) in walk(\"outputs/\"):\n",
    "    df_gazettes = df_gazettes.append([create_dataframe(dirpath,f\"{dirpath}{file}\") for file in filenames])"
   ]
  },
  {
   "source": [
    "# Classificação dos Textos"
   ],
   "cell_type": "markdown",
   "metadata": {}
  },
  {
   "source": [
    "## 1 - Quais as palavras mais frequentes por diário oficial"
   ],
   "cell_type": "markdown",
   "metadata": {}
  },
  {
   "cell_type": "code",
   "execution_count": 4,
   "metadata": {},
   "outputs": [],
   "source": [
    "import spacy\n",
    "from collections import Counter\n",
    "from spacy.lang.pt import Portuguese\n",
    "from spacy.lang.pt.stop_words import STOP_WORDS"
   ]
  },
  {
   "cell_type": "code",
   "execution_count": 5,
   "metadata": {},
   "outputs": [],
   "source": [
    "#criando objeto para nlp em pt\n",
    "nlp = Portuguese()\n",
    "STOP_WORDS.add('e')\n",
    "STOP_WORDS.add('a')\n",
    "STOP_WORDS.add('o')"
   ]
  },
  {
   "cell_type": "code",
   "execution_count": 6,
   "metadata": {},
   "outputs": [],
   "source": [
    "#teste\n",
    "text = df_gazettes['content'][4].lower()\n",
    "doc = nlp(text)"
   ]
  },
  {
   "cell_type": "code",
   "execution_count": 7,
   "metadata": {},
   "outputs": [],
   "source": [
    "tipo = \"licitação pregão concorrência inexigibilidade leilão carta-convite lei orçamento decreto projeto concurso edital\"\n",
    "area = \"educação saúde finanças esporte lazer segurança ambiente social mobilidade\"\n",
    "nlp_tipo = nlp(tipo)\n",
    "nlp_area = nlp(area)"
   ]
  },
  {
   "cell_type": "code",
   "execution_count": 8,
   "metadata": {},
   "outputs": [],
   "source": [
    "doc_tokens = [token for token in doc if (token.text.lower() not in STOP_WORDS) and token.is_punct != True and token.like_num != True and token.is_alpha == True]\n",
    "doc_texts = [token.text.lower() for token in doc if (token.text.lower() not in STOP_WORDS) and token.is_punct != True and token.like_num != True and token.is_alpha == True]\n",
    "tipo_tokens = [token for token in nlp_tipo if token.is_punct != True]\n",
    "area_tokens = [token for token in nlp_area if token.is_punct != True]"
   ]
  },
  {
   "cell_type": "code",
   "execution_count": 9,
   "metadata": {},
   "outputs": [],
   "source": [
    "def gera_token(gazette):\n",
    "    doc = nlp(gazette)\n",
    "    doc_token =  [token for token in doc if (token.text.lower() not in STOP_WORDS) and token.is_punct != True and token.like_num != True and token.is_alpha == True]\n",
    "    return doc_token\n",
    "def classificacao(token_diario,token_tipo,token_area):\n",
    "    tags_tipo = []\n",
    "    tags_area = []\n",
    "    for word in token_diario:\n",
    "        for tipo in token_tipo:\n",
    "            if word.similarity(tipo) >=0.9:\n",
    "                #print(f\"{word} - {tipo} = {word.similarity(tipo)}\")\n",
    "                tags_tipo.append(tipo)\n",
    "            #else:\n",
    "            #    tags_tipo.append(\"Outros\")\n",
    "        for area in token_area:\n",
    "            if word.similarity(area) >=0.9:\n",
    "                #print(f\"{word} - {tipo} = {word.similarity(tipo)}\")\n",
    "                tags_area.append(area)\n",
    "            #else:\n",
    "             #   tags_area.append(\"Outros\")\n",
    "    return (tags_tipo,tags_area)\n",
    "\n",
    "tipo = \"licitação pregão concorrência inexigibilidade leilão carta-convite lei orçamento decreto projeto concurso edital\"\n",
    "area = \"educação saúde finanças esporte lazer segurança ambiente social mobilidade\"\n",
    "#nlp_tipo = nlp(tipo)\n",
    "#nlp_area = nlp(area)\n",
    "tipo_tokens = gera_token(tipo)\n",
    "area_tokens = gera_token(area)"
   ]
  },
  {
   "cell_type": "code",
   "execution_count": 10,
   "metadata": {
    "tags": []
   },
   "outputs": [],
   "source": [
    "tipo_tags = []\n",
    "area_tags = []\n",
    "gazette_date = []\n",
    "for idx,gazette in df_gazettes.iterrows():\n",
    "    #df_gazettes['tipo'] = \n",
    "    tipo_tags.append(set(classificacao(gera_token(gazette['content'].lower()),tipo_tokens,area_tokens)[0]))\n",
    "    area_tags.append(set(classificacao(gera_token(gazette['content'].lower()),area_tokens,area_tokens)[1]))\n",
    "    gazette_date.append(gazette['date'])\n",
    "    #df_gazettes['area'] = classificacao(gera_token(gazette['content']),tipo_tokens,area_tokens)[1]"
   ]
  },
  {
   "cell_type": "code",
   "execution_count": 11,
   "metadata": {},
   "outputs": [],
   "source": [
    "columns = area.split()+tipo.split()"
   ]
  },
  {
   "cell_type": "code",
   "execution_count": 12,
   "metadata": {},
   "outputs": [],
   "source": [
    "all_columns = df_gazettes.columns.tolist()+columns"
   ]
  },
  {
   "cell_type": "code",
   "execution_count": 13,
   "metadata": {
    "tags": []
   },
   "outputs": [],
   "source": [
    "df_onehot = pd.DataFrame()\n",
    "for tipo,date,area in zip(tipo_tags,gazette_date,area_tags):\n",
    "    df_onehot['date'] = date\n",
    "    dt = dict.fromkeys(tipo,1)\n",
    "    da = dict.fromkeys(area,1)\n",
    "    da.update(dt)\n",
    "    df_onehot = df_onehot.append(da,ignore_index=True)\n",
    "    #df_onehot = df_onehot.append(,ignore_index=True)\n"
   ]
  },
  {
   "cell_type": "code",
   "execution_count": 20,
   "metadata": {},
   "outputs": [],
   "source": [
    "resultado = pd.DataFrame(df_onehot.fillna(0).sum(),columns=['Total']).reset_index()\n",
    "resultado['index'] = resultado['index'].astype('str')"
   ]
  },
  {
   "cell_type": "code",
   "execution_count": 21,
   "metadata": {},
   "outputs": [
    {
     "output_type": "display_data",
     "data": {
      "application/vnd.plotly.v1+json": {
       "config": {
        "plotlyServerURL": "https://plot.ly"
       },
       "data": [
        {
         "alignmentgroup": "True",
         "hoverlabel": {
          "namelength": 0
         },
         "hovertemplate": "index=%{x}<br>Total=%{y}",
         "legendgroup": "",
         "marker": {
          "color": "#636efa"
         },
         "name": "",
         "offsetgroup": "",
         "orientation": "v",
         "showlegend": false,
         "textposition": "auto",
         "type": "bar",
         "x": [
          "educação",
          "saúde",
          "lazer",
          "segurança",
          "social",
          "mobilidade",
          "lei",
          "projeto",
          "esporte",
          "decreto",
          "edital",
          "ambiente",
          "concurso",
          "licitação",
          "pregão",
          "orçamento",
          "concorrência"
         ],
         "xaxis": "x",
         "y": [
          13,
          12,
          5,
          19,
          11,
          14,
          25,
          8,
          5,
          20,
          8,
          8,
          4,
          10,
          10,
          5,
          3
         ],
         "yaxis": "y"
        }
       ],
       "layout": {
        "barmode": "relative",
        "legend": {
         "tracegroupgap": 0
        },
        "margin": {
         "t": 60
        },
        "template": {
         "data": {
          "bar": [
           {
            "error_x": {
             "color": "#2a3f5f"
            },
            "error_y": {
             "color": "#2a3f5f"
            },
            "marker": {
             "line": {
              "color": "#E5ECF6",
              "width": 0.5
             }
            },
            "type": "bar"
           }
          ],
          "barpolar": [
           {
            "marker": {
             "line": {
              "color": "#E5ECF6",
              "width": 0.5
             }
            },
            "type": "barpolar"
           }
          ],
          "carpet": [
           {
            "aaxis": {
             "endlinecolor": "#2a3f5f",
             "gridcolor": "white",
             "linecolor": "white",
             "minorgridcolor": "white",
             "startlinecolor": "#2a3f5f"
            },
            "baxis": {
             "endlinecolor": "#2a3f5f",
             "gridcolor": "white",
             "linecolor": "white",
             "minorgridcolor": "white",
             "startlinecolor": "#2a3f5f"
            },
            "type": "carpet"
           }
          ],
          "choropleth": [
           {
            "colorbar": {
             "outlinewidth": 0,
             "ticks": ""
            },
            "type": "choropleth"
           }
          ],
          "contour": [
           {
            "colorbar": {
             "outlinewidth": 0,
             "ticks": ""
            },
            "colorscale": [
             [
              0,
              "#0d0887"
             ],
             [
              0.1111111111111111,
              "#46039f"
             ],
             [
              0.2222222222222222,
              "#7201a8"
             ],
             [
              0.3333333333333333,
              "#9c179e"
             ],
             [
              0.4444444444444444,
              "#bd3786"
             ],
             [
              0.5555555555555556,
              "#d8576b"
             ],
             [
              0.6666666666666666,
              "#ed7953"
             ],
             [
              0.7777777777777778,
              "#fb9f3a"
             ],
             [
              0.8888888888888888,
              "#fdca26"
             ],
             [
              1,
              "#f0f921"
             ]
            ],
            "type": "contour"
           }
          ],
          "contourcarpet": [
           {
            "colorbar": {
             "outlinewidth": 0,
             "ticks": ""
            },
            "type": "contourcarpet"
           }
          ],
          "heatmap": [
           {
            "colorbar": {
             "outlinewidth": 0,
             "ticks": ""
            },
            "colorscale": [
             [
              0,
              "#0d0887"
             ],
             [
              0.1111111111111111,
              "#46039f"
             ],
             [
              0.2222222222222222,
              "#7201a8"
             ],
             [
              0.3333333333333333,
              "#9c179e"
             ],
             [
              0.4444444444444444,
              "#bd3786"
             ],
             [
              0.5555555555555556,
              "#d8576b"
             ],
             [
              0.6666666666666666,
              "#ed7953"
             ],
             [
              0.7777777777777778,
              "#fb9f3a"
             ],
             [
              0.8888888888888888,
              "#fdca26"
             ],
             [
              1,
              "#f0f921"
             ]
            ],
            "type": "heatmap"
           }
          ],
          "heatmapgl": [
           {
            "colorbar": {
             "outlinewidth": 0,
             "ticks": ""
            },
            "colorscale": [
             [
              0,
              "#0d0887"
             ],
             [
              0.1111111111111111,
              "#46039f"
             ],
             [
              0.2222222222222222,
              "#7201a8"
             ],
             [
              0.3333333333333333,
              "#9c179e"
             ],
             [
              0.4444444444444444,
              "#bd3786"
             ],
             [
              0.5555555555555556,
              "#d8576b"
             ],
             [
              0.6666666666666666,
              "#ed7953"
             ],
             [
              0.7777777777777778,
              "#fb9f3a"
             ],
             [
              0.8888888888888888,
              "#fdca26"
             ],
             [
              1,
              "#f0f921"
             ]
            ],
            "type": "heatmapgl"
           }
          ],
          "histogram": [
           {
            "marker": {
             "colorbar": {
              "outlinewidth": 0,
              "ticks": ""
             }
            },
            "type": "histogram"
           }
          ],
          "histogram2d": [
           {
            "colorbar": {
             "outlinewidth": 0,
             "ticks": ""
            },
            "colorscale": [
             [
              0,
              "#0d0887"
             ],
             [
              0.1111111111111111,
              "#46039f"
             ],
             [
              0.2222222222222222,
              "#7201a8"
             ],
             [
              0.3333333333333333,
              "#9c179e"
             ],
             [
              0.4444444444444444,
              "#bd3786"
             ],
             [
              0.5555555555555556,
              "#d8576b"
             ],
             [
              0.6666666666666666,
              "#ed7953"
             ],
             [
              0.7777777777777778,
              "#fb9f3a"
             ],
             [
              0.8888888888888888,
              "#fdca26"
             ],
             [
              1,
              "#f0f921"
             ]
            ],
            "type": "histogram2d"
           }
          ],
          "histogram2dcontour": [
           {
            "colorbar": {
             "outlinewidth": 0,
             "ticks": ""
            },
            "colorscale": [
             [
              0,
              "#0d0887"
             ],
             [
              0.1111111111111111,
              "#46039f"
             ],
             [
              0.2222222222222222,
              "#7201a8"
             ],
             [
              0.3333333333333333,
              "#9c179e"
             ],
             [
              0.4444444444444444,
              "#bd3786"
             ],
             [
              0.5555555555555556,
              "#d8576b"
             ],
             [
              0.6666666666666666,
              "#ed7953"
             ],
             [
              0.7777777777777778,
              "#fb9f3a"
             ],
             [
              0.8888888888888888,
              "#fdca26"
             ],
             [
              1,
              "#f0f921"
             ]
            ],
            "type": "histogram2dcontour"
           }
          ],
          "mesh3d": [
           {
            "colorbar": {
             "outlinewidth": 0,
             "ticks": ""
            },
            "type": "mesh3d"
           }
          ],
          "parcoords": [
           {
            "line": {
             "colorbar": {
              "outlinewidth": 0,
              "ticks": ""
             }
            },
            "type": "parcoords"
           }
          ],
          "pie": [
           {
            "automargin": true,
            "type": "pie"
           }
          ],
          "scatter": [
           {
            "marker": {
             "colorbar": {
              "outlinewidth": 0,
              "ticks": ""
             }
            },
            "type": "scatter"
           }
          ],
          "scatter3d": [
           {
            "line": {
             "colorbar": {
              "outlinewidth": 0,
              "ticks": ""
             }
            },
            "marker": {
             "colorbar": {
              "outlinewidth": 0,
              "ticks": ""
             }
            },
            "type": "scatter3d"
           }
          ],
          "scattercarpet": [
           {
            "marker": {
             "colorbar": {
              "outlinewidth": 0,
              "ticks": ""
             }
            },
            "type": "scattercarpet"
           }
          ],
          "scattergeo": [
           {
            "marker": {
             "colorbar": {
              "outlinewidth": 0,
              "ticks": ""
             }
            },
            "type": "scattergeo"
           }
          ],
          "scattergl": [
           {
            "marker": {
             "colorbar": {
              "outlinewidth": 0,
              "ticks": ""
             }
            },
            "type": "scattergl"
           }
          ],
          "scattermapbox": [
           {
            "marker": {
             "colorbar": {
              "outlinewidth": 0,
              "ticks": ""
             }
            },
            "type": "scattermapbox"
           }
          ],
          "scatterpolar": [
           {
            "marker": {
             "colorbar": {
              "outlinewidth": 0,
              "ticks": ""
             }
            },
            "type": "scatterpolar"
           }
          ],
          "scatterpolargl": [
           {
            "marker": {
             "colorbar": {
              "outlinewidth": 0,
              "ticks": ""
             }
            },
            "type": "scatterpolargl"
           }
          ],
          "scatterternary": [
           {
            "marker": {
             "colorbar": {
              "outlinewidth": 0,
              "ticks": ""
             }
            },
            "type": "scatterternary"
           }
          ],
          "surface": [
           {
            "colorbar": {
             "outlinewidth": 0,
             "ticks": ""
            },
            "colorscale": [
             [
              0,
              "#0d0887"
             ],
             [
              0.1111111111111111,
              "#46039f"
             ],
             [
              0.2222222222222222,
              "#7201a8"
             ],
             [
              0.3333333333333333,
              "#9c179e"
             ],
             [
              0.4444444444444444,
              "#bd3786"
             ],
             [
              0.5555555555555556,
              "#d8576b"
             ],
             [
              0.6666666666666666,
              "#ed7953"
             ],
             [
              0.7777777777777778,
              "#fb9f3a"
             ],
             [
              0.8888888888888888,
              "#fdca26"
             ],
             [
              1,
              "#f0f921"
             ]
            ],
            "type": "surface"
           }
          ],
          "table": [
           {
            "cells": {
             "fill": {
              "color": "#EBF0F8"
             },
             "line": {
              "color": "white"
             }
            },
            "header": {
             "fill": {
              "color": "#C8D4E3"
             },
             "line": {
              "color": "white"
             }
            },
            "type": "table"
           }
          ]
         },
         "layout": {
          "annotationdefaults": {
           "arrowcolor": "#2a3f5f",
           "arrowhead": 0,
           "arrowwidth": 1
          },
          "coloraxis": {
           "colorbar": {
            "outlinewidth": 0,
            "ticks": ""
           }
          },
          "colorscale": {
           "diverging": [
            [
             0,
             "#8e0152"
            ],
            [
             0.1,
             "#c51b7d"
            ],
            [
             0.2,
             "#de77ae"
            ],
            [
             0.3,
             "#f1b6da"
            ],
            [
             0.4,
             "#fde0ef"
            ],
            [
             0.5,
             "#f7f7f7"
            ],
            [
             0.6,
             "#e6f5d0"
            ],
            [
             0.7,
             "#b8e186"
            ],
            [
             0.8,
             "#7fbc41"
            ],
            [
             0.9,
             "#4d9221"
            ],
            [
             1,
             "#276419"
            ]
           ],
           "sequential": [
            [
             0,
             "#0d0887"
            ],
            [
             0.1111111111111111,
             "#46039f"
            ],
            [
             0.2222222222222222,
             "#7201a8"
            ],
            [
             0.3333333333333333,
             "#9c179e"
            ],
            [
             0.4444444444444444,
             "#bd3786"
            ],
            [
             0.5555555555555556,
             "#d8576b"
            ],
            [
             0.6666666666666666,
             "#ed7953"
            ],
            [
             0.7777777777777778,
             "#fb9f3a"
            ],
            [
             0.8888888888888888,
             "#fdca26"
            ],
            [
             1,
             "#f0f921"
            ]
           ],
           "sequentialminus": [
            [
             0,
             "#0d0887"
            ],
            [
             0.1111111111111111,
             "#46039f"
            ],
            [
             0.2222222222222222,
             "#7201a8"
            ],
            [
             0.3333333333333333,
             "#9c179e"
            ],
            [
             0.4444444444444444,
             "#bd3786"
            ],
            [
             0.5555555555555556,
             "#d8576b"
            ],
            [
             0.6666666666666666,
             "#ed7953"
            ],
            [
             0.7777777777777778,
             "#fb9f3a"
            ],
            [
             0.8888888888888888,
             "#fdca26"
            ],
            [
             1,
             "#f0f921"
            ]
           ]
          },
          "colorway": [
           "#636efa",
           "#EF553B",
           "#00cc96",
           "#ab63fa",
           "#FFA15A",
           "#19d3f3",
           "#FF6692",
           "#B6E880",
           "#FF97FF",
           "#FECB52"
          ],
          "font": {
           "color": "#2a3f5f"
          },
          "geo": {
           "bgcolor": "white",
           "lakecolor": "white",
           "landcolor": "#E5ECF6",
           "showlakes": true,
           "showland": true,
           "subunitcolor": "white"
          },
          "hoverlabel": {
           "align": "left"
          },
          "hovermode": "closest",
          "mapbox": {
           "style": "light"
          },
          "paper_bgcolor": "white",
          "plot_bgcolor": "#E5ECF6",
          "polar": {
           "angularaxis": {
            "gridcolor": "white",
            "linecolor": "white",
            "ticks": ""
           },
           "bgcolor": "#E5ECF6",
           "radialaxis": {
            "gridcolor": "white",
            "linecolor": "white",
            "ticks": ""
           }
          },
          "scene": {
           "xaxis": {
            "backgroundcolor": "#E5ECF6",
            "gridcolor": "white",
            "gridwidth": 2,
            "linecolor": "white",
            "showbackground": true,
            "ticks": "",
            "zerolinecolor": "white"
           },
           "yaxis": {
            "backgroundcolor": "#E5ECF6",
            "gridcolor": "white",
            "gridwidth": 2,
            "linecolor": "white",
            "showbackground": true,
            "ticks": "",
            "zerolinecolor": "white"
           },
           "zaxis": {
            "backgroundcolor": "#E5ECF6",
            "gridcolor": "white",
            "gridwidth": 2,
            "linecolor": "white",
            "showbackground": true,
            "ticks": "",
            "zerolinecolor": "white"
           }
          },
          "shapedefaults": {
           "line": {
            "color": "#2a3f5f"
           }
          },
          "ternary": {
           "aaxis": {
            "gridcolor": "white",
            "linecolor": "white",
            "ticks": ""
           },
           "baxis": {
            "gridcolor": "white",
            "linecolor": "white",
            "ticks": ""
           },
           "bgcolor": "#E5ECF6",
           "caxis": {
            "gridcolor": "white",
            "linecolor": "white",
            "ticks": ""
           }
          },
          "title": {
           "x": 0.05
          },
          "xaxis": {
           "automargin": true,
           "gridcolor": "white",
           "linecolor": "white",
           "ticks": "",
           "title": {
            "standoff": 15
           },
           "zerolinecolor": "white",
           "zerolinewidth": 2
          },
          "yaxis": {
           "automargin": true,
           "gridcolor": "white",
           "linecolor": "white",
           "ticks": "",
           "title": {
            "standoff": 15
           },
           "zerolinecolor": "white",
           "zerolinewidth": 2
          }
         }
        },
        "xaxis": {
         "anchor": "y",
         "domain": [
          0,
          1
         ],
         "title": {
          "text": "index"
         }
        },
        "yaxis": {
         "anchor": "x",
         "domain": [
          0,
          1
         ],
         "title": {
          "text": "Total"
         }
        }
       }
      }
     },
     "metadata": {}
    }
   ],
   "source": [
    "px.bar(resultado,x='index',y='Total')"
   ]
  },
  {
   "cell_type": "code",
   "execution_count": null,
   "metadata": {},
   "outputs": [],
   "source": []
  }
 ]
}